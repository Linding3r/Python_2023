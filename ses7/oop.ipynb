{
 "cells": [
  {
   "cell_type": "markdown",
   "metadata": {},
   "source": [
    "# OOP\n"
   ]
  },
  {
   "cell_type": "code",
   "execution_count": 20,
   "metadata": {},
   "outputs": [],
   "source": [
    "class Car:\n",
    "    def __init__(self, brand, model, hp=None, color=None):\n",
    "        self.brand = brand\n",
    "        self.model = model\n",
    "\n",
    "    #def __inti__(self, *args):\n",
    "    #    if(len(args) == 2):\n",
    "    #        self.brand = args[0]\n",
    "    #        self.model = args[1]\n",
    "    #    elif(len(args) == 1):\n",
    "    #        self.brand = args[0]\n",
    "\n",
    "    def message(self):\n",
    "        return f\"Hello, I'm a {self.brand} {self.model}.\"\n",
    "    \n",
    "    def new_methode(self, x):\n",
    "        self.x = x\n",
    "        "
   ]
  },
  {
   "cell_type": "code",
   "execution_count": 21,
   "metadata": {},
   "outputs": [
    {
     "name": "stdout",
     "output_type": "stream",
     "text": [
      "Audi\n",
      "Hello, I'm a Audi Q4 Etron.\n",
      "Hello\n"
     ]
    }
   ],
   "source": [
    "car = Car(\"Audi\", \"Q4 Etron\")\n",
    "car2 = Car(\"BMW\", \"i3\")\n",
    "\n",
    "print(car.brand)\n",
    "\n",
    "print(car.message())\n",
    "\n",
    "car.new_methode('Hello')\n",
    "\n",
    "print(car.x)\n"
   ]
  },
  {
   "cell_type": "code",
   "execution_count": 22,
   "metadata": {},
   "outputs": [
    {
     "data": {
      "text/plain": [
       "4"
      ]
     },
     "execution_count": 22,
     "metadata": {},
     "output_type": "execute_result"
    }
   ],
   "source": [
    "car.age = 4\n",
    "\n",
    "car.age"
   ]
  },
  {
   "cell_type": "code",
   "execution_count": null,
   "metadata": {},
   "outputs": [],
   "source": []
  }
 ],
 "metadata": {
  "kernelspec": {
   "display_name": ".venv",
   "language": "python",
   "name": "python3"
  },
  "language_info": {
   "codemirror_mode": {
    "name": "ipython",
    "version": 3
   },
   "file_extension": ".py",
   "mimetype": "text/x-python",
   "name": "python",
   "nbconvert_exporter": "python",
   "pygments_lexer": "ipython3",
   "version": "3.11.2"
  },
  "orig_nbformat": 4
 },
 "nbformat": 4,
 "nbformat_minor": 2
}
