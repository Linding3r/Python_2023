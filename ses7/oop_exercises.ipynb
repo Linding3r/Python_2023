{
 "cells": [
  {
   "cell_type": "markdown",
   "metadata": {},
   "source": [
    "## Exercise 1: Create a Basic Class\n",
    "\n",
    "Write a Python class named Rectangle. The class should have:\n",
    "\n",
    "    - Two instance variables: length and width.\n",
    "    - A constructor that takes in two arguments to initialize length and width.\n",
    "    - A method area that returns the area of the rectangle.\n",
    "    - A method perimeter that returns the perimeter of the rectangle."
   ]
  },
  {
   "cell_type": "code",
   "execution_count": 3,
   "metadata": {},
   "outputs": [],
   "source": [
    "class Rectangle:\n",
    "\n",
    "    def __init__(self, length, width):\n",
    "        self.length = length\n",
    "        self.width = width\n",
    "    \n",
    "    def area(self):\n",
    "        return self.length * self.width\n",
    "    \n",
    "    def perimeter(self):\n",
    "        return (2*self.length) + (2*self.width)\n",
    "    \n"
   ]
  },
  {
   "cell_type": "markdown",
   "metadata": {},
   "source": [
    "## Exercise 2: Inheritance and Polymorphism\n",
    "\n",
    "Now, let's expand on the Rectangle class.\n",
    "\n",
    "    - Create a class called Square that inherits from Rectangle.\n",
    "    - The Square class should only take one parameter during initialization: side_length.\n",
    "    - The Square class should use the parent class's (Rectangle's) area and perimeter methods without redefining them in the Square class."
   ]
  },
  {
   "cell_type": "code",
   "execution_count": 4,
   "metadata": {},
   "outputs": [
    {
     "name": "stdout",
     "output_type": "stream",
     "text": [
      "4\n",
      "8\n"
     ]
    }
   ],
   "source": [
    "class Square(Rectangle):\n",
    "    \n",
    "    def __init__(self, side_length):\n",
    "        Rectangle.__init__(self, side_length, side_length)\n",
    "\n",
    "\n",
    "square = Square(2)\n",
    "\n",
    "print(square.area())\n",
    "print(square.perimeter())"
   ]
  },
  {
   "cell_type": "markdown",
   "metadata": {},
   "source": [
    "## Exercise 3: Encapsulation and Magic Methods\n",
    "\n",
    "Continuing from the previous exercise:\n",
    "\n",
    "    - Add setter and getter methods for the length and width attributes in the Rectangle class to ensure that they can't be set to negative values or non-numeric values.\n",
    "    - Implement the __str__ magic method for the Rectangle class to return a string in the format: \"Rectangle with length [length] and width [width].\"\n",
    "    - Implement the __str__ magic method for the Square class to return a string in the format: \"Square with side length [side_length].\""
   ]
  },
  {
   "cell_type": "code",
   "execution_count": 6,
   "metadata": {},
   "outputs": [
    {
     "name": "stdout",
     "output_type": "stream",
     "text": [
      "Square with side length 2\n"
     ]
    }
   ],
   "source": [
    "class Rectangle:\n",
    "\n",
    "    def __init__(self, length, width):\n",
    "        self.length = length\n",
    "        self.width = width\n",
    "    \n",
    "    def area(self):\n",
    "        return self.length * self.width\n",
    "    \n",
    "    def perimeter(self):\n",
    "        return (self.length + self.width) * 2\n",
    "    \n",
    "    def __str__(self):\n",
    "        return f'Rectangle with length {self.length} and width {self.width}'\n",
    "    \n",
    "\n",
    "class Square(Rectangle):\n",
    "    \n",
    "    def __init__(self, side_length):\n",
    "        Rectangle.__init__(self, side_length, side_length)\n",
    "    \n",
    "    def __str__(self):\n",
    "        return f'Square with side length {self.length}'\n",
    "\n",
    "\n",
    "s = Square(2)\n",
    "\n",
    "print(s)"
   ]
  }
 ],
 "metadata": {
  "kernelspec": {
   "display_name": ".venv",
   "language": "python",
   "name": "python3"
  },
  "language_info": {
   "codemirror_mode": {
    "name": "ipython",
    "version": 3
   },
   "file_extension": ".py",
   "mimetype": "text/x-python",
   "name": "python",
   "nbconvert_exporter": "python",
   "pygments_lexer": "ipython3",
   "version": "3.11.2"
  },
  "orig_nbformat": 4
 },
 "nbformat": 4,
 "nbformat_minor": 2
}
