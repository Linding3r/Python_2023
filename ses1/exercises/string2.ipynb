{
 "cells": [
  {
   "attachments": {},
   "cell_type": "markdown",
   "metadata": {},
   "source": [
    "# Additional basic string exercises\n",
    "\n",
    "## D. verbing\n",
    "Given a string, if its length is at least 3,\n",
    "add 'ing' to its end.\n",
    "Unless it already ends in 'ing', in which case\n",
    "add 'ly' instead.\n",
    "If the string length is less than 3, leave it unchanged.\n",
    "Return the resulting string."
   ]
  },
  {
   "cell_type": "code",
<<<<<<< HEAD
   "execution_count": 104,
   "id": "8df9c123",
=======
   "execution_count": 1,
   "id": "748124ed",
>>>>>>> playground2
   "metadata": {},
   "outputs": [],
   "source": [
    "def verbing(s):\n",
    "  if len(s) < 3:\n",
    "    return s\n",
    "  elif s[-3:] == \"ing\":\n",
    "    return s + \"ly\"\n",
    "  return s+\"ing\""
   ]
  },
  {
   "attachments": {},
   "cell_type": "markdown",
<<<<<<< HEAD
   "id": "f05a327a",
=======
   "id": "38718d9a",
>>>>>>> playground2
   "metadata": {},
   "source": [
    "## E. not_bad\n",
    "Given a string, find the first appearance of the\n",
    "substring 'not' and 'bad'. If the 'bad' follows\n",
    "the 'not', replace the whole 'not'...'bad' substring\n",
    "with 'good'.\n",
    "Return the resulting string.\n",
    "So 'This dinner is not that bad!' yields:\n",
    "This dinner is good!"
   ]
  },
  {
   "cell_type": "code",
<<<<<<< HEAD
   "execution_count": 105,
   "id": "1d8e4e65",
=======
   "execution_count": 2,
   "id": "b0328002",
>>>>>>> playground2
   "metadata": {},
   "outputs": [],
   "source": [
    "def not_bad(s):\n",
    "  not_index = s.find('not')\n",
    "  bad_index = s.find('bad')\n",
    "    \n",
    "  if bad_index > not_index:\n",
    "    return s[:not_index] + 'good' + s[bad_index + 3:]\n",
    "  else:\n",
    "    return s"
   ]
  },
  {
   "attachments": {},
   "cell_type": "markdown",
<<<<<<< HEAD
   "id": "448b088f",
=======
   "id": "91b16ea6",
>>>>>>> playground2
   "metadata": {},
   "source": [
    "## F. front_back\n",
    "Consider dividing a string into two halves.\n",
    "If the length is even, the front and back halves are the same length.\n",
    "If the length is odd, we'll say that the extra char goes in the front half.\n",
    "e.g. 'abcde', the front half is 'abc', the back half 'de'.\n",
    "Given 2 strings, a and b, return a string of the form\n",
    "a-front + b-front + a-back + b-back"
   ]
  },
  {
   "cell_type": "code",
<<<<<<< HEAD
   "execution_count": 106,
   "id": "55f24bf8",
=======
   "execution_count": 3,
   "id": "054144a1",
>>>>>>> playground2
   "metadata": {},
   "outputs": [],
   "source": [
    "def split_half(s):\n",
    "        middle = len(s) // 2\n",
    "        front = s[:middle + len(s) % 2]\n",
    "        back = s[middle + len(s) % 2:]\n",
    "        return front, back\n",
    "\n",
    "def front_back(a, b):\n",
    "    a_front, a_back = split_half(a)\n",
    "    b_front, b_back = split_half(b)\n",
    "    \n",
    "    result = a_front + b_front + a_back + b_back\n",
    "    return result"
   ]
  },
  {
   "cell_type": "code",
<<<<<<< HEAD
   "execution_count": 107,
   "id": "f73e079a",
=======
   "execution_count": 4,
   "id": "75f418bb",
>>>>>>> playground2
   "metadata": {},
   "outputs": [],
   "source": [
    "# This function should not be modified.\n",
    "\n",
    "def test(got, expected):\n",
    "  if got == expected:\n",
    "    prefix = ' OK '\n",
    "  else:\n",
    "    prefix = '  X '\n",
    "  print (prefix + ' got: ' + got + ' expected: ' + expected)"
   ]
  },
  {
   "cell_type": "code",
<<<<<<< HEAD
   "execution_count": 108,
   "id": "7783c495",
=======
   "execution_count": 5,
   "id": "43e67c6f",
>>>>>>> playground2
   "metadata": {},
   "outputs": [],
   "source": [
    "# This function should not be modified.\n",
    "\n",
    "def main():\n",
    "  print ('verbing')\n",
    "  test(verbing('hail'), 'hailing')\n",
    "  test(verbing('swiming'), 'swimingly')\n",
    "  test(verbing('do'), 'do')\n",
    "\n",
    "  print()\n",
    "  print ('not_bad')\n",
    "  test(not_bad('This movie is not so bad'), 'This movie is good')\n",
    "  test(not_bad('This dinner is not that bad!'), 'This dinner is good!')\n",
    "  test(not_bad('This tea is not hot'), 'This tea is not hot')\n",
    "  test(not_bad(\"It's bad yet not\"), \"It's bad yet not\")\n",
    "\n",
    "  print()\n",
    "  print ('front_back')\n",
    "  test(front_back('abcd', 'xy'), 'abxcdy')\n",
    "  test(front_back('abcde', 'xyz'), 'abcxydez')\n",
    "  test(front_back('Kitten', 'Donut'), 'KitDontenut')"
   ]
  },
  {
   "cell_type": "code",
   "execution_count": 109,
   "id": "b71c55f9",
   "metadata": {},
   "outputs": [
    {
     "name": "stdout",
     "output_type": "stream",
     "text": [
      "verbing\n",
      " OK  got: hailing expected: hailing\n",
      " OK  got: swimingly expected: swimingly\n",
      " OK  got: do expected: do\n",
      "\n",
      "not_bad\n",
      " OK  got: This movie is good expected: This movie is good\n",
      " OK  got: This dinner is good! expected: This dinner is good!\n",
      " OK  got: This tea is not hot expected: This tea is not hot\n",
      " OK  got: It's bad yet not expected: It's bad yet not\n",
      "\n",
      "front_back\n",
      " OK  got: abxcdy expected: abxcdy\n",
      " OK  got: abcxydez expected: abcxydez\n",
      " OK  got: KitDontenut expected: KitDontenut\n"
     ]
    }
   ],
   "source": [
    "main()"
   ]
  }
 ],
 "metadata": {
  "kernelspec": {
   "display_name": "Python 3",
   "language": "python",
   "name": "python3"
  },
  "language_info": {
   "codemirror_mode": {
    "name": "ipython",
    "version": 3
   },
   "file_extension": ".py",
   "mimetype": "text/x-python",
   "name": "python",
   "nbconvert_exporter": "python",
   "pygments_lexer": "ipython3",
   "version": "3.11.2"
  }
 },
 "nbformat": 4,
 "nbformat_minor": 5
}
